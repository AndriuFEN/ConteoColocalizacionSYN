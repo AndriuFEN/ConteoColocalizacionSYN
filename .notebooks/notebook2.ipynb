{
 "cells": [
  {
   "cell_type": "code",
   "execution_count": 1,
   "metadata": {},
   "outputs": [],
   "source": [
    "import streamlit as st\n",
    "from scripts import prepare_data"
   ]
  },
  {
   "cell_type": "code",
   "execution_count": 2,
   "metadata": {},
   "outputs": [
    {
     "name": "stdout",
     "output_type": "stream",
     "text": [
      "Trabajando archivo ...\n",
      "     ... configurando entorno\n",
      "     ... descomprimiento carpeta origen\n",
      "     ... reconociendo bucles\n",
      "     ... preparando tablas\n",
      "     ... exportando excel\n",
      "Writing to output/Datos SYN09 DS GRK2 GRK3 GRK5 GRK6 TH.xlsx\n",
      "     ... SYN09 DS Control Negativo sheet\n",
      "     ... SYN09 DS GRK2 GRK3 TH sheet\n",
      "     ... SYN09 DS GRK5 GRK6 TH sheet\n",
      "     ... done!\n",
      "     ... done!\n"
     ]
    }
   ],
   "source": [
    "prepare_data.run(descomprimir=False, verbose=True)"
   ]
  },
  {
   "cell_type": "code",
   "execution_count": 3,
   "metadata": {},
   "outputs": [],
   "source": []
  },
  {
   "cell_type": "code",
   "execution_count": 9,
   "metadata": {},
   "outputs": [
    {
     "name": "stderr",
     "output_type": "stream",
     "text": [
      "Downloading...\n",
      "From: https://drive.google.com/uc?id=1PJlQGSkdYcaaK6B8Bhf1Hs2dzo-I00WI&confirm=t\n",
      "To: d:\\Users\\Andriu\\Main\\DOCUMENTOS\\3. MACHINE LEARNING\\PYTHON_PROYECTS\\ConteoColocalizacionMuestra\\python\\output.zip\n",
      "100%|██████████| 1.33G/1.33G [00:13<00:00, 102MB/s] \n"
     ]
    },
    {
     "data": {
      "text/plain": [
       "'output.zip'"
      ]
     },
     "execution_count": 9,
     "metadata": {},
     "output_type": "execute_result"
    }
   ],
   "source": [
    "import gdown\n",
    "\n",
    "url = 'https://drive.google.com/file/d/1PJlQGSkdYcaaK6B8Bhf1Hs2dzo-I00WI/view?usp=drive_link'\n",
    "nombre_archivo = 'SYN09 DS 080124'\n",
    "\n",
    "# corrijo la url\n",
    "file_id = url.split('d/')[-1].split('/view')[0]\n",
    "url_fix = f'https://drive.google.com/uc?id={file_id}&confirm=t'\n",
    "\n",
    "# corrijo el nombre\n",
    "if not nombre_archivo.endswith('.zip'):\n",
    "    nombre_archivo += '.zip'\n",
    "\n",
    "# decargo archivo\n",
    "savename = f'{ofolder}{nombre_archivo}'\n",
    "gdown.download(url_fix, savename, quiet=False)"
   ]
  },
  {
   "cell_type": "code",
   "execution_count": null,
   "metadata": {},
   "outputs": [
    {
     "name": "stderr",
     "output_type": "stream",
     "text": [
      "Downloading...\n",
      "From: https://drive.google.com/file/d/1PJlQGSkdYcaaK6B8Bhf1Hs2dzo-I00WI/view?usp=drive_link\n",
      "To: d:\\Users\\Andriu\\Main\\DOCUMENTOS\\3. MACHINE LEARNING\\PYTHON_PROYECTS\\ConteoColocalizacionMuestra\\python\\output.zip\n",
      "33.2kB [00:00, 3.01MB/s]\n"
     ]
    },
    {
     "data": {
      "text/plain": [
       "'output.zip'"
      ]
     },
     "execution_count": 5,
     "metadata": {},
     "output_type": "execute_result"
    }
   ],
   "source": [
    "\n",
    "ur\n",
    "\n",
    "\n"
   ]
  }
 ],
 "metadata": {
  "kernelspec": {
   "display_name": "muestra",
   "language": "python",
   "name": "python3"
  },
  "language_info": {
   "codemirror_mode": {
    "name": "ipython",
    "version": 3
   },
   "file_extension": ".py",
   "mimetype": "text/x-python",
   "name": "python",
   "nbconvert_exporter": "python",
   "pygments_lexer": "ipython3",
   "version": "3.12.8"
  }
 },
 "nbformat": 4,
 "nbformat_minor": 2
}
